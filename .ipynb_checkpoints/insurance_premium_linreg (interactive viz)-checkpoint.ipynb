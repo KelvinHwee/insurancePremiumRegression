{
 "cells": [
  {
   "cell_type": "markdown",
   "id": "cd031d28",
   "metadata": {},
   "source": [
    "### Background of program\n",
    "We try to create a linear regression model to study insurance premiums.\n",
    "\n",
    "### Basic configuration steps\n",
    "\n",
    "We import some standard packages to do this task. In addition, some bespoke functions have been created to help serve other purposes.\n"
   ]
  },
  {
   "cell_type": "code",
   "execution_count": 1,
   "id": "80b5781a",
   "metadata": {},
   "outputs": [],
   "source": [
    "# - import basic python packages\n",
    "import warnings\n",
    "import tkinter  # to show plot in Pycharm\n",
    "\n",
    "warnings.simplefilter(action='ignore', category=FutureWarning)\n",
    "\n",
    "# - import packages for data manipulations\n",
    "import numpy as np\n",
    "import pandas as pd\n",
    "\n",
    "# - import packages for visualizations\n",
    "import seaborn as sns\n",
    "import plotly.express as px\n",
    "import matplotlib.pyplot as plt\n",
    "import plotly.graph_objects as go\n",
    "from plotly.subplots import make_subplots\n",
    "import plotly.figure_factory as FF\n",
    "import pylab\n",
    "import plotly\n",
    "\n",
    "# - import packages for statistical analyses\n",
    "from statsmodels.graphics.gofplots import qqplot\n",
    "from scipy.stats import zscore, probplot\n",
    "from scipy.stats import skew, kurtosis\n",
    "from statsmodels.graphics.gofplots import ProbPlot\n",
    "from sklearn.preprocessing import StandardScaler, MinMaxScaler, scale\n",
    "from statsmodels.stats.stattools import durbin_watson\n",
    "from statsmodels.nonparametric.smoothers_lowess import lowess\n",
    "\n",
    "# - import packages for building of linear models\n",
    "from sklearn.model_selection import train_test_split\n",
    "from sklearn.linear_model import LinearRegression, Lasso, Ridge, lars_path\n",
    "from sklearn.preprocessing import PolynomialFeatures\n",
    "from sklearn.metrics import r2_score, mean_squared_error\n",
    "import statsmodels.api as sm\n",
    "import statsmodels.formula.api as smf\n",
    "\n",
    "# - packages created\n",
    "from utils import var_bracket\n",
    "\n",
    "# - configure the setting to display all columns\n",
    "pd.set_option('display.max_columns', None)\n"
   ]
  },
  {
   "cell_type": "code",
   "execution_count": null,
   "id": "f2b0adba",
   "metadata": {},
   "outputs": [],
   "source": []
  },
  {
   "cell_type": "code",
   "execution_count": null,
   "id": "9afecb03",
   "metadata": {},
   "outputs": [],
   "source": []
  },
  {
   "cell_type": "code",
   "execution_count": null,
   "id": "1448a6ec",
   "metadata": {},
   "outputs": [],
   "source": []
  },
  {
   "cell_type": "code",
   "execution_count": null,
   "id": "7015ac4b",
   "metadata": {},
   "outputs": [],
   "source": []
  },
  {
   "cell_type": "code",
   "execution_count": null,
   "id": "3ba0d964",
   "metadata": {},
   "outputs": [],
   "source": []
  },
  {
   "cell_type": "code",
   "execution_count": null,
   "id": "037a2206",
   "metadata": {},
   "outputs": [],
   "source": []
  },
  {
   "cell_type": "code",
   "execution_count": null,
   "id": "e351c4b8",
   "metadata": {},
   "outputs": [],
   "source": []
  },
  {
   "cell_type": "code",
   "execution_count": null,
   "id": "7d5d03e2",
   "metadata": {},
   "outputs": [],
   "source": []
  },
  {
   "cell_type": "code",
   "execution_count": null,
   "id": "8af06a9d",
   "metadata": {},
   "outputs": [],
   "source": []
  },
  {
   "cell_type": "code",
   "execution_count": null,
   "id": "2d88a271",
   "metadata": {},
   "outputs": [],
   "source": []
  },
  {
   "cell_type": "code",
   "execution_count": null,
   "id": "47311a3f",
   "metadata": {},
   "outputs": [],
   "source": []
  },
  {
   "cell_type": "code",
   "execution_count": null,
   "id": "a4ed8d7e",
   "metadata": {},
   "outputs": [],
   "source": []
  }
 ],
 "metadata": {
  "kernelspec": {
   "display_name": "Python 3 (ipykernel)",
   "language": "python",
   "name": "python3"
  },
  "language_info": {
   "codemirror_mode": {
    "name": "ipython",
    "version": 3
   },
   "file_extension": ".py",
   "mimetype": "text/x-python",
   "name": "python",
   "nbconvert_exporter": "python",
   "pygments_lexer": "ipython3",
   "version": "3.9.5"
  }
 },
 "nbformat": 4,
 "nbformat_minor": 5
}
